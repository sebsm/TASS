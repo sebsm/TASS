{
 "metadata": {
  "language_info": {
   "codemirror_mode": {
    "name": "ipython",
    "version": 3
   },
   "file_extension": ".py",
   "mimetype": "text/x-python",
   "name": "python",
   "nbconvert_exporter": "python",
   "pygments_lexer": "ipython3",
   "version": "3.8.3-final"
  },
  "orig_nbformat": 2,
  "kernelspec": {
   "name": "python3",
   "display_name": "Python 3.8.3 32-bit",
   "metadata": {
    "interpreter": {
     "hash": "83c3ed0f33d854d5986541249d8d5ba8b78dbefe19e422bb7b6f66c801b6e2e6"
    }
   }
  }
 },
 "nbformat": 4,
 "nbformat_minor": 2,
 "cells": [
  {
   "cell_type": "code",
   "execution_count": null,
   "metadata": {},
   "outputs": [],
   "source": [
    "import networkx as nx\n",
    "import requests\n",
    "import matplotlib as plt"
   ]
  },
  {
   "cell_type": "code",
   "execution_count": null,
   "metadata": {},
   "outputs": [],
   "source": [
    "url = 'https://www.ia.pw.edu.pl/~mkamola/dataset-big/4.txt'\n",
    "r = requests.get(url, allow_redirects=True)\n",
    "open('4.txt', 'wb').write(r.content)"
   ]
  },
  {
   "source": [
    "Zbadaj jaki jest rząd i rozmiar całej sieci: pierwotnej oraz po usunięciu pętli i duplikatów krawędzi (1);"
   ],
   "cell_type": "markdown",
   "metadata": {}
  },
  {
   "cell_type": "code",
   "execution_count": null,
   "metadata": {},
   "outputs": [],
   "source": [
    "\n",
    "G_multi = nx.read_edgelist(\"4.txt\", create_using=nx.MultiGraph)\n",
    "G = nx.read_edgelist(\"4.txt\", create_using=nx.Graph)"
   ]
  },
  {
   "cell_type": "code",
   "execution_count": null,
   "metadata": {},
   "outputs": [],
   "source": [
    "I1 = nx.info(G_multi) \n",
    "print(I1 + '\\n')\n",
    "I2 = nx.info(G) \n",
    "print(I2 + '\\n')"
   ]
  },
  {
   "cell_type": "code",
   "execution_count": null,
   "metadata": {},
   "outputs": [],
   "source": [
    "nx.number_of_selfloops(G_multi)"
   ]
  },
  {
   "cell_type": "code",
   "execution_count": null,
   "metadata": {},
   "outputs": [],
   "source": [
    "nx.number_of_selfloops(G)"
   ]
  },
  {
   "cell_type": "code",
   "execution_count": null,
   "metadata": {},
   "outputs": [],
   "source": [
    "G_multi=nx.Graph(G_multi)"
   ]
  },
  {
   "cell_type": "code",
   "execution_count": null,
   "metadata": {},
   "outputs": [],
   "source": [
    "G_multi.remove_edges_from(nx.selfloop_edges(G_multi))\n",
    "G.remove_edges_from(nx.selfloop_edges(G))"
   ]
  },
  {
   "cell_type": "code",
   "execution_count": null,
   "metadata": {},
   "outputs": [],
   "source": [
    "nx.number_of_selfloops(G_multi)"
   ]
  },
  {
   "cell_type": "code",
   "execution_count": null,
   "metadata": {},
   "outputs": [],
   "source": [
    "nx.number_of_selfloops(G)"
   ]
  },
  {
   "cell_type": "code",
   "execution_count": null,
   "metadata": {},
   "outputs": [],
   "source": [
    "N1 = nx.info(G_multi) \n",
    "print(N1 + '\\n')\n",
    "N2 = nx.info(G) \n",
    "print(N2 + '\\n')"
   ]
  },
  {
   "source": [
    "Wyodrębnij największą składową spójną, zbadaj jej rząd i rozmiar (1);"
   ],
   "cell_type": "markdown",
   "metadata": {}
  },
  {
   "cell_type": "code",
   "execution_count": null,
   "metadata": {},
   "outputs": [],
   "source": [
    "nx.is_connected(G)"
   ]
  },
  {
   "cell_type": "code",
   "execution_count": null,
   "metadata": {},
   "outputs": [],
   "source": [
    "nx.is_connected(G_multi)"
   ]
  },
  {
   "cell_type": "code",
   "execution_count": null,
   "metadata": {},
   "outputs": [],
   "source": [
    "Set = [len(c) for c in sorted(nx.connected_components(G_multi), key=len, reverse=True)]"
   ]
  },
  {
   "cell_type": "code",
   "execution_count": null,
   "metadata": {},
   "outputs": [],
   "source": [
    "largest_cc = max(nx.connected_components(G_multi), key=len)"
   ]
  },
  {
   "cell_type": "code",
   "execution_count": null,
   "metadata": {},
   "outputs": [],
   "source": [
    "G_biggest=G_multi.subgraph(largest_cc)"
   ]
  },
  {
   "cell_type": "code",
   "execution_count": null,
   "metadata": {},
   "outputs": [],
   "source": [
    "Inf = nx.info(G_biggest)\n",
    "print(Inf)"
   ]
  },
  {
   "cell_type": "code",
   "execution_count": null,
   "metadata": {},
   "outputs": [],
   "source": [
    "nx.number_of_nodes(G_biggest)"
   ]
  },
  {
   "cell_type": "code",
   "execution_count": null,
   "metadata": {},
   "outputs": [],
   "source": [
    "nx.number_of_edges(G_biggest)"
   ]
  },
  {
   "source": [
    "Wyznacz aproksymacje średniej długości ścieżki, operując na próbie losowej 100, 1000 i 10 tys. par wierzchołków (2);"
   ],
   "cell_type": "markdown",
   "metadata": {}
  },
  {
   "cell_type": "code",
   "execution_count": null,
   "metadata": {},
   "outputs": [],
   "source": [
    "import random\n"
   ]
  },
  {
   "cell_type": "code",
   "execution_count": null,
   "metadata": {},
   "outputs": [],
   "source": [
    "n_set = [100, 310, 620]\n",
    "random_graph=[None] * len(n_set)\n",
    "create_graph=[None] * len(n_set)\n",
    "for i in n_set:\n",
    "    random_graph = random.sample(G_biggest.nodes, i)\n",
    "    create_graph = G_multi.subgraph(random_graph)\n",
    "    lar_cc = max(nx.connected_components(create_graph), key=len)\n",
    "    G_big=create_graph.subgraph(lar_cc)\n",
    "    #print(nx.info(create_graph))\n",
    "    print(nx.info(G_big))\n",
    "    try:\n",
    "        #aspl = nx.average_shortest_path_length(create_graph)\n",
    "        aspl1 = nx.average_shortest_path_length(G_big)\n",
    "        #print(i,aspl)\n",
    "        print(i,aspl1)\n",
    "    except nx.NetworkXError:\n",
    "        print('Cannot count length')\n"
   ]
  },
  {
   "cell_type": "code",
   "execution_count": null,
   "metadata": {},
   "outputs": [],
   "source": [
    "nx.average_shortest_path_length(G_biggest)"
   ]
  },
  {
   "cell_type": "code",
   "execution_count": null,
   "metadata": {},
   "outputs": [],
   "source": [
    "def top_degree(graph, n):\n",
    "    degree = nx.degree(graph)\n",
    "    sdegree = sorted(degree,key=lambda n: -n[1])\n",
    "    return sdegree[0:n]\n"
   ]
  },
  {
   "cell_type": "code",
   "execution_count": 45,
   "metadata": {},
   "outputs": [
    {
     "output_type": "execute_result",
     "data": {
      "text/plain": [
       "[('net.databinder', 176),\n",
       " ('ui', 100),\n",
       " ('exo', 74),\n",
       " ('core', 53),\n",
       " ('geronimo', 51),\n",
       " ('org.scalatra', 51),\n",
       " ('com.github.philcali', 44),\n",
       " ('de.sciss', 44),\n",
       " ('org.scala-tools.testing', 42),\n",
       " ('maven', 36)]"
      ]
     },
     "metadata": {},
     "execution_count": 45
    }
   ],
   "source": [
    "top_degree(G_multi, 10)"
   ]
  },
  {
   "cell_type": "code",
   "execution_count": 46,
   "metadata": {},
   "outputs": [
    {
     "output_type": "execute_result",
     "data": {
      "text/plain": [
       "[('ui', 100),\n",
       " ('core', 53),\n",
       " ('geronimo', 51),\n",
       " ('taglibs', 36),\n",
       " ('jboss', 32),\n",
       " ('org.eclipse.emf', 29),\n",
       " ('tomcat', 29),\n",
       " ('source', 20),\n",
       " ('infopop', 18),\n",
       " ('org.eclipse', 17)]"
      ]
     },
     "metadata": {},
     "execution_count": 46
    }
   ],
   "source": [
    "top_degree(G_biggest,10)"
   ]
  },
  {
   "source": [
    "wyznacz liczbę rdzeni o największym możliwym rzędzie, o drugim możliwie największym rzędzie o trzecim możliwie największym rzędzie; jakie to są rzędy? (3);\n"
   ],
   "cell_type": "markdown",
   "metadata": {}
  },
  {
   "cell_type": "code",
   "execution_count": 58,
   "metadata": {},
   "outputs": [
    {
     "output_type": "stream",
     "name": "stdout",
     "text": [
      "Name: \nType: Graph\nNumber of nodes: 18\nNumber of edges: 39\nAverage degree:   4.3333\nName: \nType: Graph\nNumber of nodes: 149\nNumber of edges: 265\nAverage degree:   3.5570\nName: \nType: Graph\nNumber of nodes: 626\nNumber of edges: 742\nAverage degree:   2.3706\n"
     ]
    }
   ],
   "source": [
    "from collections import Counter\n",
    "core_numbers = nx.core_number(G_biggest)\n",
    "\n",
    "#hist_data = sorted(Counter(core_numbers).items())\n",
    "#hist_data = sorted(Counter(core_numbers))\n",
    "#print(hist_data)\n",
    "print(nx.info(nx.k_core(G_biggest,3)))\n",
    "print(nx.info(nx.k_core(G_biggest,2)))\n",
    "print(nx.info(nx.k_core(G_biggest,1)))"
   ]
  },
  {
   "source": [
    "wykreśl rozkład stopni wierzchołków (1);\n"
   ],
   "cell_type": "markdown",
   "metadata": {}
  },
  {
   "cell_type": "code",
   "execution_count": null,
   "metadata": {},
   "outputs": [],
   "source": [
    "import matplotlib.pyplot as plt\n",
    "plt.scatter(*zip(*hist_data))\n"
   ]
  },
  {
   "source": [
    "Częstosć stopni wierzchołków"
   ],
   "cell_type": "markdown",
   "metadata": {}
  },
  {
   "cell_type": "code",
   "execution_count": null,
   "metadata": {},
   "outputs": [],
   "source": [
    "from collections import Counter\n",
    "import matplotlib as plt\n",
    "deg_dict = Counter(dlist)\n",
    "degs = deg_dict.keys()\n",
    "freqs = deg_dict.values()\n",
    "plt.loglog(degs , freqs , 'bo')\n",
    "plt.gcf().savefig('degree_freq.png')\n",
    "plt.close()"
   ]
  },
  {
   "source": [
    "Wykres rangowy"
   ],
   "cell_type": "markdown",
   "metadata": {}
  },
  {
   "cell_type": "code",
   "execution_count": null,
   "metadata": {},
   "outputs": [],
   "source": [
    "cumul=[]\n",
    "2 for i in range ( len (degs)):\n",
    "3 cnt = 0\n",
    "4 for j in range (i, len (degs)):\n",
    "5 cnt = cnt + freqs[j]\n",
    "6 cumul.append(cnt)\n",
    "7 plt.loglog(degs , cumul , ’bo’)"
   ]
  },
  {
   "source": [
    "wyznacz wykładnik rozkładu potęgowego metodą regresji dla dopełnienia dystrybuanty rozkładu stopni, dla przedziałów rozlokowanych logarytmicznie (3);\n"
   ],
   "cell_type": "markdown",
   "metadata": {}
  },
  {
   "cell_type": "code",
   "execution_count": null,
   "metadata": {},
   "outputs": [],
   "source": []
  },
  {
   "source": [
    "wyznacz wykres Hilla (3)."
   ],
   "cell_type": "markdown",
   "metadata": {}
  },
  {
   "cell_type": "code",
   "execution_count": null,
   "metadata": {},
   "outputs": [],
   "source": [
    "import powerlaw\n",
    "import numpy as np\n",
    "\n",
    "NBINS = 50\n",
    "bins = np.logspace(np.log10(min(dlist)),\n",
    "                   np.log10(max(dlist)), num = NBINS)\n",
    "bcnt, bedge = np.histogram(np.array(dlist),bins = bins)\n",
    "alpha = np.zeros(len(bedge[:-2]))\n",
    "\n",
    "\n",
    "for i in range(0,len(bedge)-2):\n",
    "    fit=powerlaw.Fit(dlist,xmin=bedge[i], discrete=True)\n",
    "    alpha[i]=fit.alpha\n",
    "\n",
    "plt.semilogx(bedge[:-2], alpha)"
   ]
  },
  {
   "source": [
    "Porównanie rozkładów"
   ],
   "cell_type": "markdown",
   "metadata": {}
  },
  {
   "cell_type": "code",
   "execution_count": null,
   "metadata": {},
   "outputs": [],
   "source": [
    "fit = powerlaw.Fit(dlist, discrete=True)\n",
    "print 'alpha (disc.) = ' + str(fit.alpha)\n",
    "fig3 = fit.plot_ccdf(ax = fig3, color = 'r',\n",
    "                     linestyle = '-')\n",
    "fit.truncated_power_law.plot_ccdf(ax = fig3, color = 'g',\n",
    "                                  linestyle = '-')\n",
    "fit.lognormal.plot_ccdf(ax = fig3, color = 'b',\n",
    "                        linestyle = '-')"
   ]
  }
 ]
}