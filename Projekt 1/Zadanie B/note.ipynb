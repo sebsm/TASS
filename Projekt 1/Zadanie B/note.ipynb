{
 "metadata": {
  "language_info": {
   "codemirror_mode": {
    "name": "ipython",
    "version": 3
   },
   "file_extension": ".py",
   "mimetype": "text/x-python",
   "name": "python",
   "nbconvert_exporter": "python",
   "pygments_lexer": "ipython3",
   "version": "3.8.3-final"
  },
  "orig_nbformat": 2,
  "kernelspec": {
   "name": "Python 3.8.3 32-bit",
   "display_name": "Python 3.8.3 32-bit",
   "metadata": {
    "interpreter": {
     "hash": "83c3ed0f33d854d5986541249d8d5ba8b78dbefe19e422bb7b6f66c801b6e2e6"
    }
   }
  }
 },
 "nbformat": 4,
 "nbformat_minor": 2,
 "cells": [
  {
   "cell_type": "code",
   "execution_count": 1,
   "metadata": {},
   "outputs": [],
   "source": [
    "import networkx as nx\n",
    "import requests\n",
    "import matplotlib as plt"
   ]
  },
  {
   "cell_type": "code",
   "execution_count": 2,
   "metadata": {},
   "outputs": [
    {
     "output_type": "execute_result",
     "data": {
      "text/plain": [
       "185860"
      ]
     },
     "metadata": {},
     "execution_count": 2
    }
   ],
   "source": [
    "url = 'https://www.ia.pw.edu.pl/~mkamola/dataset-big/4.txt'\n",
    "r = requests.get(url, allow_redirects=True)\n",
    "open('4.txt', 'wb').write(r.content)"
   ]
  },
  {
   "source": [
    "Zbadaj jaki jest rząd i rozmiar całej sieci: pierwotnej oraz po usunięciu pętli i duplikatów krawędzi (1);"
   ],
   "cell_type": "markdown",
   "metadata": {}
  },
  {
   "cell_type": "code",
   "execution_count": 3,
   "metadata": {},
   "outputs": [],
   "source": [
    "\n",
    "G_multi = nx.read_edgelist(\"4.txt\", create_using=nx.MultiGraph)\n",
    "#G = nx.read_edgelist(\"4.txt\", create_using=nx.Graph)\n",
    "#G_di = nx.read_edgelist(\"4.txt\", create_using=nx.DiGraph)\n",
    "#G_multidi = nx.read_edgelist(\"4.txt\", create_using=nx.MultiDiGraph)"
   ]
  },
  {
   "cell_type": "code",
   "execution_count": 4,
   "metadata": {},
   "outputs": [
    {
     "output_type": "stream",
     "name": "stdout",
     "text": [
      "Name: \nType: MultiGraph\nNumber of nodes: 6988\nNumber of edges: 5537\nAverage degree:   1.5847\n\n"
     ]
    }
   ],
   "source": [
    "I1 = nx.info(G_multi) \n",
    "#I2 = nx.info(G) \n",
    "#I3 =nx.info(G_di) \n",
    "#I4 =nx.info(G_multidi) \n",
    "print(I1 + '\\n')\n",
    "#print(I2 + '\\n')\n",
    "#print(I3)\n",
    "#print(I4)"
   ]
  },
  {
   "cell_type": "code",
   "execution_count": 5,
   "metadata": {},
   "outputs": [
    {
     "output_type": "execute_result",
     "data": {
      "text/plain": [
       "256"
      ]
     },
     "metadata": {},
     "execution_count": 5
    }
   ],
   "source": [
    "nx.number_of_selfloops(G_multi)"
   ]
  },
  {
   "cell_type": "code",
   "execution_count": 6,
   "metadata": {},
   "outputs": [],
   "source": [
    "#list(G_multi.nodes)"
   ]
  },
  {
   "cell_type": "code",
   "execution_count": 7,
   "metadata": {},
   "outputs": [],
   "source": [
    "#list(G_multi.edges)"
   ]
  },
  {
   "cell_type": "code",
   "execution_count": 8,
   "metadata": {},
   "outputs": [],
   "source": [
    "#list(G_multi.degree)"
   ]
  },
  {
   "cell_type": "code",
   "execution_count": 9,
   "metadata": {},
   "outputs": [],
   "source": [
    "G_multi=nx.Graph(G_multi)"
   ]
  },
  {
   "cell_type": "code",
   "execution_count": 10,
   "metadata": {},
   "outputs": [],
   "source": [
    "#nx.draw(G_multi, with_labels=True, font_weight='bold')"
   ]
  },
  {
   "cell_type": "code",
   "execution_count": 11,
   "metadata": {},
   "outputs": [],
   "source": [
    "G_multi.remove_edges_from(nx.selfloop_edges(G_multi))"
   ]
  },
  {
   "cell_type": "code",
   "execution_count": 12,
   "metadata": {},
   "outputs": [
    {
     "output_type": "execute_result",
     "data": {
      "text/plain": [
       "0"
      ]
     },
     "metadata": {},
     "execution_count": 12
    }
   ],
   "source": [
    "nx.number_of_selfloops(G_multi)"
   ]
  },
  {
   "cell_type": "code",
   "execution_count": 13,
   "metadata": {},
   "outputs": [
    {
     "output_type": "stream",
     "name": "stdout",
     "text": [
      "Name: \nType: MultiGraph\nNumber of nodes: 6988\nNumber of edges: 5537\nAverage degree:   1.5847\n\n"
     ]
    }
   ],
   "source": [
    "print(I1 + '\\n')"
   ]
  },
  {
   "source": [
    "Wyodrębnij największą składową spójną, zbadaj jej rząd i rozmiar (1);"
   ],
   "cell_type": "markdown",
   "metadata": {}
  },
  {
   "cell_type": "code",
   "execution_count": 14,
   "metadata": {},
   "outputs": [],
   "source": [
    "Set = [len(c) for c in sorted(nx.connected_components(G_multi), key=len, reverse=True)]"
   ]
  },
  {
   "cell_type": "code",
   "execution_count": 15,
   "metadata": {},
   "outputs": [],
   "source": [
    "largest_cc = max(nx.connected_components(G_multi), key=len)"
   ]
  },
  {
   "cell_type": "code",
   "execution_count": 16,
   "metadata": {},
   "outputs": [],
   "source": [
    "G_biggest=G_multi.subgraph(largest_cc)"
   ]
  },
  {
   "cell_type": "code",
   "execution_count": 17,
   "metadata": {},
   "outputs": [
    {
     "output_type": "stream",
     "name": "stdout",
     "text": [
      "Name: \nType: Graph\nNumber of nodes: 626\nNumber of edges: 742\nAverage degree:   2.3706\n"
     ]
    }
   ],
   "source": [
    "Inf = nx.info(G_biggest)\n",
    "print(Inf)"
   ]
  },
  {
   "cell_type": "code",
   "execution_count": 18,
   "metadata": {},
   "outputs": [
    {
     "output_type": "execute_result",
     "data": {
      "text/plain": [
       "742"
      ]
     },
     "metadata": {},
     "execution_count": 18
    }
   ],
   "source": [
    "nx.number_of_nodes(G_biggest)\n",
    "nx.number_of_edges(G_biggest)"
   ]
  },
  {
   "source": [
    "Wyznacz aproksymacje średniej długości ścieżki, operując na próbie losowej 100, 1000 i 10 tys. par wierzchołków (2);"
   ],
   "cell_type": "markdown",
   "metadata": {}
  },
  {
   "cell_type": "code",
   "execution_count": 19,
   "metadata": {},
   "outputs": [],
   "source": [
    "import random\n"
   ]
  },
  {
   "cell_type": "code",
   "execution_count": 25,
   "metadata": {},
   "outputs": [
    {
     "output_type": "stream",
     "name": "stdout",
     "text": [
      "Name: \nType: Graph\nNumber of nodes: 0\nNumber of edges: 0\n\n"
     ]
    },
    {
     "output_type": "error",
     "ename": "NetworkXPointlessConcept",
     "evalue": "the null graph has no paths, thus there is no averageshortest path length",
     "traceback": [
      "\u001b[1;31m---------------------------------------------------------------------------\u001b[0m",
      "\u001b[1;31mNetworkXPointlessConcept\u001b[0m                  Traceback (most recent call last)",
      "\u001b[1;32m<ipython-input-25-da2b00ff4edd>\u001b[0m in \u001b[0;36m<module>\u001b[1;34m\u001b[0m\n\u001b[0;32m      5\u001b[0m     \u001b[0mprint\u001b[0m\u001b[1;33m(\u001b[0m\u001b[0mnx\u001b[0m\u001b[1;33m.\u001b[0m\u001b[0minfo\u001b[0m\u001b[1;33m(\u001b[0m\u001b[0mcreate_graph\u001b[0m\u001b[1;33m)\u001b[0m\u001b[1;33m)\u001b[0m\u001b[1;33m\u001b[0m\u001b[1;33m\u001b[0m\u001b[0m\n\u001b[0;32m      6\u001b[0m     \u001b[1;32mtry\u001b[0m\u001b[1;33m:\u001b[0m\u001b[1;33m\u001b[0m\u001b[1;33m\u001b[0m\u001b[0m\n\u001b[1;32m----> 7\u001b[1;33m         \u001b[0maspl\u001b[0m \u001b[1;33m=\u001b[0m \u001b[0mnx\u001b[0m\u001b[1;33m.\u001b[0m\u001b[0maverage_shortest_path_length\u001b[0m\u001b[1;33m(\u001b[0m\u001b[0mcreate_graph\u001b[0m\u001b[1;33m)\u001b[0m\u001b[1;33m\u001b[0m\u001b[1;33m\u001b[0m\u001b[0m\n\u001b[0m\u001b[0;32m      8\u001b[0m         \u001b[0mprint\u001b[0m\u001b[1;33m(\u001b[0m\u001b[0mi\u001b[0m\u001b[1;33m,\u001b[0m\u001b[0maspl\u001b[0m\u001b[1;33m)\u001b[0m\u001b[1;33m\u001b[0m\u001b[1;33m\u001b[0m\u001b[0m\n\u001b[0;32m      9\u001b[0m     \u001b[1;32mexcept\u001b[0m \u001b[0mnx\u001b[0m\u001b[1;33m.\u001b[0m\u001b[0mNetworkXError\u001b[0m\u001b[1;33m:\u001b[0m\u001b[1;33m\u001b[0m\u001b[1;33m\u001b[0m\u001b[0m\n",
      "\u001b[1;32m~\\AppData\\Local\\Programs\\Python\\Python38-32\\lib\\site-packages\\networkx\\algorithms\\shortest_paths\\generic.py\u001b[0m in \u001b[0;36maverage_shortest_path_length\u001b[1;34m(G, weight, method)\u001b[0m\n\u001b[0;32m    379\u001b[0m             \u001b[1;34m\"shortest path length\"\u001b[0m\u001b[1;33m\u001b[0m\u001b[1;33m\u001b[0m\u001b[0m\n\u001b[0;32m    380\u001b[0m         )\n\u001b[1;32m--> 381\u001b[1;33m         \u001b[1;32mraise\u001b[0m \u001b[0mnx\u001b[0m\u001b[1;33m.\u001b[0m\u001b[0mNetworkXPointlessConcept\u001b[0m\u001b[1;33m(\u001b[0m\u001b[0mmsg\u001b[0m\u001b[1;33m)\u001b[0m\u001b[1;33m\u001b[0m\u001b[1;33m\u001b[0m\u001b[0m\n\u001b[0m\u001b[0;32m    382\u001b[0m     \u001b[1;31m# For the special case of the trivial graph, return zero immediately.\u001b[0m\u001b[1;33m\u001b[0m\u001b[1;33m\u001b[0m\u001b[1;33m\u001b[0m\u001b[0m\n\u001b[0;32m    383\u001b[0m     \u001b[1;32mif\u001b[0m \u001b[0mn\u001b[0m \u001b[1;33m==\u001b[0m \u001b[1;36m1\u001b[0m\u001b[1;33m:\u001b[0m\u001b[1;33m\u001b[0m\u001b[1;33m\u001b[0m\u001b[0m\n",
      "\u001b[1;31mNetworkXPointlessConcept\u001b[0m: the null graph has no paths, thus there is no averageshortest path length"
     ]
    }
   ],
   "source": [
    "n_set = [100, 1000, 10000]\n",
    "for i in n_set:\n",
    "    random_graph = random.sample(G_multi.nodes, i)\n",
    "    create_graph = G_multi.subgraph(random_graph)\n",
    "    print(nx.info(create_graph))\n",
    "    try:\n",
    "        aspl = nx.average_shortest_path_length(create_graph)\n",
    "        print(i,aspl)\n",
    "    except nx.NetworkXError:\n",
    "        print('Cannot count length')\n",
    "nx.average_shortest_path_length(G_multi)"
   ]
  },
  {
   "cell_type": "code",
   "execution_count": null,
   "metadata": {},
   "outputs": [],
   "source": [
    "def top_degree(graph, n):\n",
    " degree = nx.degree(graph)\n",
    " sdegree = sorted(degree.iteritems(),\n",
    "key=lambda n: -n[1])\n",
    " return sdegree[0:n]\n"
   ]
  },
  {
   "cell_type": "code",
   "execution_count": null,
   "metadata": {},
   "outputs": [],
   "source": [
    "top_degree(G_multi, 10)"
   ]
  },
  {
   "cell_type": "code",
   "execution_count": null,
   "metadata": {},
   "outputs": [],
   "source": [
    "from collections import Counter\n",
    "core_numbers = nx.core_number(G_multi)\n",
    "\n",
    "hist_data = sorted(Counter(core_numbers.values()).items())\n",
    "\n",
    "nx.info(nx.k_core(G_multi, k=89))\n",
    "nx.info(nx.k_core(G_multi, k=90))\n"
   ]
  },
  {
   "source": [
    "wyznacz liczbę rdzeni o największym możliwym rzędzie, o drugim możliwie największym rzędzie o trzecim możliwie największym rzędzie; jakie to są rzędy? (3);\n"
   ],
   "cell_type": "markdown",
   "metadata": {}
  },
  {
   "cell_type": "code",
   "execution_count": null,
   "metadata": {},
   "outputs": [],
   "source": [
    "nx.info(nx.k_core(G, k=87))\n",
    "nx.info(nx.k_core(G, k=88))\n",
    "nx.info(nx.k_core(G, k=89))\n"
   ]
  },
  {
   "source": [
    "wykreśl rozkład stopni wierzchołków (1);\n"
   ],
   "cell_type": "markdown",
   "metadata": {}
  },
  {
   "cell_type": "code",
   "execution_count": null,
   "metadata": {},
   "outputs": [],
   "source": [
    "import matplotlib.pyplot as plt\n",
    "plt.scatter(*zip(*hist_data))\n"
   ]
  },
  {
   "source": [
    "wyznacz wykładnik rozkładu potęgowego metodą regresji dla dopełnienia dystrybuanty rozkładu stopni, dla przedziałów rozlokowanych logarytmicznie (3);\n"
   ],
   "cell_type": "markdown",
   "metadata": {}
  },
  {
   "source": [
    "wyznacz wykres Hilla (3)."
   ],
   "cell_type": "markdown",
   "metadata": {}
  },
  {
   "cell_type": "code",
   "execution_count": null,
   "metadata": {},
   "outputs": [],
   "source": []
  }
 ]
}